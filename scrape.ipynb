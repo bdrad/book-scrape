{
 "cells": [
  {
   "cell_type": "markdown",
   "metadata": {},
   "source": [
    "# setup"
   ]
  },
  {
   "cell_type": "code",
   "execution_count": 1,
   "metadata": {},
   "outputs": [],
   "source": [
    "from typing import List, Dict, Tuple, Set\n",
    "\n",
    "from PIL import Image\n",
    "from io import BytesIO\n",
    "import matplotlib.pyplot as plt\n",
    "from pathlib import Path\n",
    "import nltk\n",
    "from ipyfilechooser import FileChooser\n",
    "from ipywidgets import Layout\n",
    "import fitz\n",
    "import layoutparser as lp\n",
    "import re"
   ]
  },
  {
   "cell_type": "code",
   "execution_count": 2,
   "metadata": {},
   "outputs": [],
   "source": [
    "DATA = Path(\"scrape\")\n",
    "assert DATA.is_dir()"
   ]
  },
  {
   "cell_type": "code",
   "execution_count": 3,
   "metadata": {},
   "outputs": [
    {
     "data": {
      "application/vnd.jupyter.widget-view+json": {
       "model_id": "efbac9f74de64a409e449322ec6f2ed8",
       "version_major": 2,
       "version_minor": 0
      },
      "text/plain": [
       "FileChooser(path='/home/bdrad/Documents/Vogel/book-scrape/scrape', filename='', title='Select PDF file to extr…"
      ]
     },
     "metadata": {},
     "output_type": "display_data"
    }
   ],
   "source": [
    "fc = FileChooser(\n",
    "    DATA,\n",
    "    filter_pattern=\"*.pdf\",\n",
    "    title=\"Select PDF file to extract\",\n",
    "    layout=Layout(width=\"100%\"),\n",
    ")\n",
    "display(fc)"
   ]
  },
  {
   "cell_type": "code",
   "execution_count": 4,
   "metadata": {},
   "outputs": [
    {
     "name": "stdout",
     "output_type": "stream",
     "text": [
      "File selected: [Chest - Webb - Fundamentals of Body CT (4e).pdf](file:///home/bdrad/Documents/Vogel/book-scrape/scrape/Chest%20-%20Webb%20-%20Fundamentals%20of%20Body%20CT%20%284e%29.pdf)\n"
     ]
    }
   ],
   "source": [
    "# fname = Path(fc.selected)\n",
    "fname = Path('/home/bdrad/Documents/Vogel/book-scrape/scrape/Chest - Webb - Fundamentals of Body CT (4e).pdf')\n",
    "assert fname.is_file()\n",
    "print(f\"File selected: [{fname.name}]({fname.as_uri()})\")"
   ]
  },
  {
   "cell_type": "code",
   "execution_count": 5,
   "metadata": {},
   "outputs": [],
   "source": [
    "pdf: fitz.Document = fitz.Document(fname)\n",
    "# pdf: fitz.Document = fitz.open(fname)"
   ]
  },
  {
   "cell_type": "code",
   "execution_count": 63,
   "metadata": {},
   "outputs": [],
   "source": [
    "class Config:\n",
    "    # Chapters are zero-indexed, and final number is the last page of the final chapter\n",
    "    chapters: List[int] = None\n",
    "\n",
    "    def __init__(self, fname: Path):\n",
    "        match fname.name:\n",
    "            case \"Chest - Elicker - HRCT of the Lungs 2e.pdf\":\n",
    "                self.chapters = [49, 62, 83, 104, 116, 129, 150, 166, 174, 199, 212, 221, 233, 247, 265, 274, 283, 296, 305]\n",
    "            case \"Chest - Felson - Principles of Chest Roentgenology (4e).pdf\":\n",
    "                self.chapters = [8,29,46,68,84,104,122,136,160,182,202,226] # TODO rest of chpts\n",
    "            case \"Chest - Webb - Fundamentals of Body CT (4e).pdf\":\n",
    "                self.chapters = [6,12,26,49,73,94,134,151,176,188,214,225,241,250,278,290,323,340,349,363,370,]\n",
    "            case \"General - Mandell - Core Radiology (1e).pdf\":\n",
    "                self.chapters = [669,702] # TODO rest of chpts\n",
    "            case _:\n",
    "                raise KeyError\n",
    "            \n",
    "    def chapter_range(self):\n",
    "        return list(zip(self.chapters, self.chapters[1:]))\n",
    "\n",
    "    def contained_chapter(self, page: fitz.Page, chapter_range=None):\n",
    "        chapter_range = chapter_range or self.chapter_range()\n",
    "        for i, (start, end) in enumerate(chapter_range):\n",
    "            if (start or float(\"-inf\")) <= page.number < (end or float(\"inf\")):\n",
    "                return i\n",
    "        return None\n",
    "\n",
    "config = Config(fname)\n",
    "\n",
    "# config.chapter_range()"
   ]
  },
  {
   "cell_type": "markdown",
   "metadata": {},
   "source": [
    "# processing text"
   ]
  },
  {
   "cell_type": "code",
   "execution_count": 64,
   "metadata": {},
   "outputs": [],
   "source": [
    "TERM_PUNC = ('.','!','?', ';')  # terminating punctuation"
   ]
  },
  {
   "cell_type": "markdown",
   "metadata": {},
   "source": [
    "## hyphen\n",
    "\n",
    "- __TODO__ implement trie datastructure for more efficient searching of words; have hyphen be root node?"
   ]
  },
  {
   "cell_type": "code",
   "execution_count": 65,
   "metadata": {},
   "outputs": [
    {
     "data": {
      "text/plain": [
       "7124"
      ]
     },
     "execution_count": 65,
     "metadata": {},
     "output_type": "execute_result"
    }
   ],
   "source": [
    "# nltk.download('wordnet31')\n",
    "from nltk.corpus import wordnet31 as wordnet\n",
    "\n",
    "hyphen_corpus = set(filter(lambda w: \"-\" in w, wordnet.words()))    # select just words with hyphen\n",
    "hyphen_corpus = hyphen_corpus.union({'Three-dimensional', 'Multiple-detector', 'Two-and', 'Multiple-detector', 'four-detector-row','Post-expiratory','soft-tissue','two-or','arrowhead-shaped','fat-filled','short-axis','out-flow','mirror-image','left-sided','Contrast-enhanced','post-traumatic','x-rays','medullary-based','MDCT-guided','volume-rendered','volume-rendering','contrast-opacified','thick-walled','thin-walled','bolus-contrast-enhanced','Contrast-filled','smooth-outlined','sheet-like','small-bowel','Colon-wall','tumor-involved','Early-stage','Closed-loop','B-cell','Mucosa-associated','three-layer','region-of-interest','lipid-rich','Lipid-poor', 'non-Hodgkin’s','fat-containing','bone-marrow','Thin-section','Axial-plane','sagittal-plane','well-hydrated','end-stage','image-guided','fluid-filled','non-neoplastic','hairline-thin','well-marginated','Lymphad-enectomy','Nephron-sparing','mid-T-12','CT-KUB','CT-IVP','water-density','bunch-of-grapes','main-duct','branch-duct','duct-obstructing','AIDS-related','Hormone-producing','ultrasound-guided','Long-segment','upper-quadrant','IV-A','IV-B','tech-netium-99m-labeled','technetium-99m','delayed-phase','Well-differentiated','venous-phase','arterial-phase','arterial-phase','nodule-in-nodule','False-positive','comma-shaped',})\n",
    "hyphen_corpus = set(map(lambda w: w.lower(), hyphen_corpus))    # lower case\n",
    "\n",
    "len(hyphen_corpus)"
   ]
  },
  {
   "cell_type": "code",
   "execution_count": 66,
   "metadata": {},
   "outputs": [],
   "source": [
    "# TODO: Verify this works\n",
    "# words such as high-XXX, minimum-XXX, etc. should not be de-hyphenated\n",
    "# Need to get such prefix words (prefix corpus)\n",
    "# Need to evaluate the prefix (that before '-') and determine if it is in this prefix corpus\n",
    "\n",
    "hyphen_prefixs = {'high', 'higher', 'highest',\n",
    "                  'low', 'lower', 'lowest',\n",
    "                  'max', 'maximum',\n",
    "                  'min', 'minimum',\n",
    "                  }\n",
    "\n",
    "hyphen_sufffixs = {'mm', 'cm', 'm'}"
   ]
  },
  {
   "cell_type": "code",
   "execution_count": 77,
   "metadata": {},
   "outputs": [],
   "source": [
    "def dehyphenate_string(input_string, pg_num=None):\n",
    "    out = \"\"\n",
    "    dehyphens = []\n",
    "\n",
    "    input_string = re.sub(r\"\\s*-\\s*\", r\"-\", input_string)   # remove surronding spaces; join hyphenated words\n",
    "\n",
    "    re_number       = r'^\\d+(\\.\\d+)?-(.+)$'      # e.x. 15.25-mm\n",
    "    re_word_extract = r'^(\\W*)([\\w’-]*)(\\W*)$'\n",
    "    re_hyph_split   = r'^([^-]*)-(.*)$'\n",
    "\n",
    "    for full_word in input_string.split(' '):\n",
    "        if \"-\" not in full_word or re.match(re_number, full_word):\n",
    "            out += full_word + \" \"\n",
    "            continue\n",
    "        \n",
    "        try:\n",
    "            match = re.search(re_word_extract, full_word)\n",
    "            pre, word, post = match.groups()\n",
    "            assert '-' in word\n",
    "\n",
    "            match = re.search(re_hyph_split, word)\n",
    "            word_pre, word_post = match.groups()\n",
    "        except AttributeError:\n",
    "            print(f\"### {f'PG {pg_num} :: ' if pg_num else ''} Failed to dehyphenate word: {full_word}\")\n",
    "            out += full_word + \" \"\n",
    "            continue\n",
    "        \n",
    "        if word_pre.lower() not in hyphen_prefixs and word_post.lower() not in hyphen_sufffixs:\n",
    "            if word.lower() not in hyphen_corpus:\n",
    "                # print('Dehyphenating word: ', word)\n",
    "                dehyphens.append(word)\n",
    "                word = word_pre + word_post\n",
    "        out += pre + word + post + \" \"\n",
    "    return out.rstrip(), dehyphens\n",
    "\n",
    "\n",
    "# dehyphenate_string(\"Gantry rotation time is usually about 0.5 seconds.\")\n",
    "# dehyphenate_string(\"This is an ex-ample of a de-hyphenated string. x-ray is a hyphenated word. 15.25-mm is a hyphenated number.\")"
   ]
  },
  {
   "cell_type": "markdown",
   "metadata": {},
   "source": [
    "## figures, tables, misc."
   ]
  },
  {
   "cell_type": "code",
   "execution_count": 78,
   "metadata": {},
   "outputs": [
    {
     "name": "stdout",
     "output_type": "stream",
     "text": [
      "De-hyphenated ['tho-rax']\n",
      "De-hyphenated ['vol-ume']\n",
      "De-hyphenated ['vol-ume', 'consider-able']\n",
      "De-hyphenated ['imag-ing']\n"
     ]
    },
    {
     "data": {
      "text/plain": [
       "'Because scan data are acquired continuously and volumetrically using spiral CT, scans may be reconstructed in any plane desired, if appropriate workstations are available. A variety of display techniques have been used for imaging the thorax. These include multiplanar reconstructions, three-dimensional shaded surface display or volume rendering from an external perspective, or shaded surface or volume rendering from an internal (i.e., endoluminal) perspective, also known as virtual bronchoscopy.# Multiplanar, two-dimensional reconstructions offer the advantage of being quickly performed and are sufficient for diagnosis in most cases in which a reformation is considered desirable. Subsequent chapters provide a number of examples of two-dimensional reconstructions. Three-dimensional techniques, such as shaded surface display and volume rendering, can be valuable in selected cases, but they are time-consuming and require considerable operator experience. These techniques are not commonly used in clinical chest imaging, with the exception of virtual bronchoscopy or airway imaging and specialized vascular imaging.# Maximum-or minimum-intensity projection images representing a slab of three-dimensional data reconstructed from a volumetric data set may sometimes be useful in imaging pulmonary, airway, or vascular abnormalities.'"
      ]
     },
     "execution_count": 78,
     "metadata": {},
     "output_type": "execute_result"
    }
   ],
   "source": [
    "def process_text(text: str, log=False, pg_num=None) -> str:\n",
    "    text = re.sub(r\"Fig\\.\", \"Figure\", text)    # because we are splitting on '.', we need to replace 'Fig.' with 'Figure'\n",
    "    sentences = re.split(r'(?<=[' + \"\".join(TERM_PUNC) + r'\\n])', text)    # this will split, but preserve the delimiter\n",
    "    # sentences = re.split(r'(?<=[.?!;\\n])', text)    # this will split, but preserve the delimiter\n",
    "    # print(sentences)\n",
    "    out = \"\"\n",
    "    for sent in sentences:\n",
    "        if not sent: continue\n",
    "        \n",
    "        ref_parenthesis = r\" ?\\(.*(table|fig(\\.|ure)) \\d.+?\\)\"    # e.x. (lorem Table 1 ipsum) or (Fig. 2.1)\n",
    "        sent = re.sub(ref_parenthesis, \"\", sent, flags=re.IGNORECASE)\n",
    "\n",
    "        ref_whole = r\"(Table|Figure) \\d\"\n",
    "        if re.search(ref_whole, sent, flags=re.IGNORECASE):\n",
    "            continue\n",
    "        sent, dehyphs = dehyphenate_string(sent, pg_num=pg_num)\n",
    "        if dehyphs and log: \n",
    "            print(f\"{'PG  :: d' + pg_num if pg_num else 'D'}e-hyphenated {dehyphs}\")\n",
    "        out += sent\n",
    "    \n",
    "    return out.strip()\n",
    "\n",
    "test_txt = \"\"\"Because scan data are acquired continuously and volumetrically using spiral CT, scans may be reconstructed in any plane desired, if appropriate workstations are available. A variety of display techniques have been used for imaging the tho-rax. These include multiplanar reconstructions, three-dimensional shaded surface display or vol-ume rendering from an external perspective, or shaded surface or volume rendering from an internal (i.e., endoluminal) perspective, also known as virtual bronchoscopy.\n",
    "# Multiplanar, two-dimensional reconstructions offer the advantage of being quickly performed and are sufficient for diagnosis in most cases in which a reformation is considered desirable. Subsequent chapters provide a number of examples of two-dimensional reconstructions. Three-dimensional techniques, such as shaded surface display and vol-ume rendering, can be valuable in selected cases, but they are time-consuming and require consider-able operator experience. These techniques are not commonly used in clinical chest imaging, with the exception of virtual bronchoscopy or airway imag-ing and specialized vascular imaging.\n",
    "# Maximum- or minimum-intensity projection images representing a slab of three-dimensional data reconstructed from a volumetric data set may sometimes be useful in imaging pulmonary, airway, or vascular abnormalities.\"\"\"\n",
    "# test_txt=\"However, several general principles apply to all chest scans (TABLE 1-1).\"\n",
    "# test_txt=\"Gantry rotation time is usually about 0.5 seconds. The formula relating scan parameters for MDCT is shown in Fig. 1-1.\"\n",
    "process_text(test_txt, log=True)"
   ]
  },
  {
   "cell_type": "code",
   "execution_count": 79,
   "metadata": {},
   "outputs": [],
   "source": [
    "assert (res:=process_text((txt:=\"Gantry rotation time is usually about 0.5 seconds\"))) == txt, res\n",
    "assert (res:=process_text((txt:=\"The formula relating scan parameters for MDCT is shown in Fig. 1-1.\"))) == '', res\n",
    "assert (res:=process_text((txt:=\"However, several general principles apply to all chest scans (TABLE 1-1).\"))) == 'However, several general principles apply to all chest scans.', res\n",
    "assert (res:=process_text((txt:=\"Non-Hodgkin’s\"))) == txt, res\n",
    "assert (res:=process_text((txt:=\"max-something\"))) == txt, res\n",
    "assert (res:=process_text((txt:=\"minimum-otherthing\"))) == txt, res"
   ]
  },
  {
   "cell_type": "markdown",
   "metadata": {},
   "source": [
    "# processing pages"
   ]
  },
  {
   "cell_type": "markdown",
   "metadata": {},
   "source": [
    "### layout parser"
   ]
  },
  {
   "cell_type": "code",
   "execution_count": 70,
   "metadata": {},
   "outputs": [],
   "source": [
    "model = lp.models.Detectron2LayoutModel(\n",
    "    # 'lp://PubLayNet/faster_rcnn_R_50_FPN_3x/config',\n",
    "    'lp://PubLayNet/mask_rcnn_X_101_32x8d_FPN_3x/config',\n",
    "    extra_config=[\"MODEL.ROI_HEADS.SCORE_THRESH_TEST\", 0.8],   # todo tinker\n",
    "    label_map={0: \"Text\", 1: \"Title\", 2: \"List\", 3:\"Table\", 4:\"Figure\"}\n",
    ")"
   ]
  },
  {
   "cell_type": "code",
   "execution_count": 35,
   "metadata": {},
   "outputs": [],
   "source": [
    "# pg_layout = model.detect(im) # Detect the layout of the input image\n",
    "# lp.draw_box(im, pg_layout, box_width=3) # Show the detected layout of the input image"
   ]
  },
  {
   "cell_type": "code",
   "execution_count": 61,
   "metadata": {},
   "outputs": [],
   "source": [
    "import pdfplumber\n",
    "from pdfplumber.page import Page\n",
    "pdf = pdfplumber.open(fname, laparams={\"detect_vertical\": False}).pages\n",
    "\n",
    "# start, end = config.chapter_range()[2]\n",
    "# pages = pdf[start:end]\n",
    "# pg = pages[0]\n",
    "pg = pdf[10]\n",
    "im = pg.to_image(resolution=123)\n",
    "# im.draw_rects(pg.textboxhorizontals)\n",
    "im = im.annotated"
   ]
  },
  {
   "cell_type": "code",
   "execution_count": 62,
   "metadata": {},
   "outputs": [
    {
     "data": {
      "image/png": "[encoded data removed]",
      "text/plain": [
       "<PIL.Image.Image image mode=RGB size=892x1261>"
      ]
     },
     "execution_count": 62,
     "metadata": {},
     "output_type": "execute_result"
    }
   ],
   "source": [
    "from layoutparser.elements import Layout, Interval\n",
    "from pdfplumber.page import Page\n",
    "from pdfplumber.display import PageImage\n",
    "\n",
    "def get_labels(im) -> Layout:\n",
    "# def get_labels(pg, resolution=123) -> Layout:\n",
    "    # im = pg.to_image(resolution=resolution).annotated\n",
    "    \n",
    "    w,h = im.size\n",
    "    \n",
    "    layout = model.detect(im) # Detect the layout of the input image\n",
    "    \n",
    "    text_blocks: Layout = lp.Layout([b for b in layout if b.type in ('Text', 'Title')])\n",
    "    figure_blocks: Layout = lp.Layout([b for b in layout if b.type=='Figure'])\n",
    "\n",
    "    # As there could be text region detected inside the figure region, we just drop them:\n",
    "    text_blocks: Layout = lp.Layout([b for b in text_blocks if not any(b.is_in(b_fig) for b_fig in figure_blocks)])\n",
    "\n",
    "    # canvas_height=h, canvas_width=w\n",
    "    left_interval: Interval = lp.Interval(0, w/2*1.05, axis='x').put_on_canvas(im)\n",
    "\n",
    "    left_blocks = text_blocks.filter_by(left_interval, center=True)\n",
    "    right_blocks = [b for b in text_blocks if b not in left_blocks]\n",
    "\n",
    "    sort_key = lambda b: b.coordinates[1]\n",
    "    left_blocks = sorted(left_blocks, key=sort_key)\n",
    "    right_blocks = sorted(right_blocks, key=sort_key)\n",
    "\n",
    "    # print('og\\t', len(text_blocks))\n",
    "    # print('left\\t', len(left_blocks))\n",
    "    # print('right\\t', len(right_blocks))\n",
    "\n",
    "    sorted_boxes = [b.set(id=idx) for idx, b in enumerate(left_blocks + right_blocks)]\n",
    "    \n",
    "    return sorted_boxes\n",
    "\n",
    "sorted_boxes = get_labels(im)\n",
    "# sorted_boxes = get_labels(pg)\n",
    "\n",
    "lp.draw_box(im, sorted_boxes, box_width=3, show_element_id=True)"
   ]
  },
  {
   "cell_type": "code",
   "execution_count": 39,
   "metadata": {},
   "outputs": [
    {
     "name": "stdout",
     "output_type": "stream",
     "text": [
      "** ignoring overlap case (contained)\n",
      "1 1 8 12\n",
      "6 2 11 10\n"
     ]
    },
    {
     "data": {
      "image/png": "[encoded data removed]",
      "text/plain": [
       "<Figure size 640x480 with 1 Axes>"
      ]
     },
     "metadata": {},
     "output_type": "display_data"
    }
   ],
   "source": [
    "# TODO finish this\n",
    "import numpy as np\n",
    "import matplotlib.pyplot as plt\n",
    "from math import ceil,floor\n",
    "\n",
    "def place(i,j,data,itm,center=False):\n",
    "    h,w=itm.shape\n",
    "    \n",
    "    if center: \n",
    "        i-=h//2\n",
    "        j-=w//2\n",
    "    \n",
    "    data[i:i+h,j:j+w]+=itm\n",
    "    return data\n",
    "\n",
    "def rm_overlap(rect0: List[int],rect1: List[int], favor=0, interp=0.66) -> Tuple[List[int], List[int]]:\n",
    "    assert 0<=interp<=1\n",
    "    \n",
    "    x0,y0,x1,y1=rect0\n",
    "    a0,b0,a1,b1=rect1\n",
    "    \n",
    "    # no overlap\n",
    "    if x1<a0 or a1<x0 or y1<b0 or b1<y0:\n",
    "        return rect0, rect1\n",
    "    \n",
    "    # boxes overlap in x, and y\n",
    "    if not (x1<a0 or a1<x0) and not (y1<b0 or b1<y0):\n",
    "        p,q=interp,1-interp\n",
    "        \n",
    "        if y0<b0<y1<b1:     # rect0 above rect1\n",
    "            margin = y1-b0\n",
    "            y1-=margin*(q if favor else p)\n",
    "            b0+=margin*(p if favor else q)\n",
    "            y1,b0=floor(y1),ceil(b0)            \n",
    "        elif b0<y0<b1<y1:   # rect0 below rect1\n",
    "            margin = b1-y0\n",
    "            y0+=margin*(q if favor else p)\n",
    "            b1-=margin*(p if favor else q)\n",
    "            y0,b1=ceil(y0),floor(b1)\n",
    "        else:\n",
    "            print('** ignoring overlap case (contained)')\n",
    "    \n",
    "    # y0,b0=max(y0,0),max(b0,0)\n",
    "    return [x0,y0,x1,y1], [a0,b0,a1,b1]\n",
    "    \n",
    "\n",
    "n = 14\n",
    "data = np.zeros((n,n))\n",
    "\n",
    "a_dim = (7,11)\n",
    "a_off = (1,1)\n",
    "a = np.ones(a_dim)/3.0\n",
    "ax0,ay0 = a_off\n",
    "ax1,ay1 = [a+i for a,i in zip(a_off,a.shape)]\n",
    "\n",
    "\n",
    "b_dim = (5,8)\n",
    "b_off = (6,2)\n",
    "b = np.ones(b_dim)/2.0\n",
    "bx0,by0 = b_off\n",
    "bx1,by1 = [b+i for b,i in zip(b_off,b.shape)]\n",
    "\n",
    "(ax0,ay0,ax1,ay1), (bx0,by0,bx1,by1) = rm_overlap((ax0,ay0,ax1,ay1), (bx0,by0,bx1,by1))\n",
    "place(*a_off,data,a)\n",
    "print(ax0,ay0,ax1,ay1)\n",
    "place(*b_off,data,b)\n",
    "print(bx0,by0,bx1,by1)\n",
    "\n",
    "plt.imshow(data, interpolation='nearest');"
   ]
  },
  {
   "cell_type": "code",
   "execution_count": 71,
   "metadata": {},
   "outputs": [
    {
     "name": "stdout",
     "output_type": "stream",
     "text": [
      "### PG: 11 Box: 4 :: Body does not end with punctuation: :\n",
      "### > skipping `Dynamic CT Techniques`\n",
      "\n",
      "================================================================================\n",
      "cont: diagnosis (1.25-mm slices reconstructed at 1.25mm intervals). Intravenous contrast is injectedrapidly (e.g., 5 mL/second), and scanning isbegun when the scanner shows that the leftatrium or aorta is opacified. The scan delay mayrange from 15 to 30 seconds, depending on thepatient. If imaging of the abdominal aorta is alsorequired (e.g., for aortic dissection), scans arecontinued through the abdomen. Quiet breathing during the abdominal portion of the scan isusually allowed if the patient cannot hold a breathfor the duration of the study. \n",
      "\n",
      "** High-Resolution Lung CT **\n",
      "HRCT is used to diagnose diffuse lung diseases,emphysema, bronchiectasis, and focal lung lesions(i.e., a solitary nodule). HRCT requires thinslices (e.g., 0.625 to 1.25 mm) and image reconstruction using a sharp (high-resolution) algorithm, which reduces image smoothing andincreases spatial resolution. Although use of asharp algorithm also increases image noise, this isnot usually a problem in the interpretation oflung images. Injection of contrast is not necessaryfor HRCT but may be used on occasion if pulmonary embolism is also a consideration. Scans performed with the patient supine and prone, andfollowing expiration, are often obtained. Pronescans are used to detect subtle posterior lungabnormalities; expiratory scans are used to detectair trapping.Basically, HRCT may be performed in twoifferent ways:The term dynamic CT means that a number ofscans are performed in sequence. Because spiralscanning is continuous, it is a dynamic technique,but dynamic scanning can also be performedwithout a spiral technique (i.e., without table andpatient motion during acquisition of scans).Dynamic scanning may be performed at a singlelevel during expiration to detect air trapping or toassess tracheal or bronchial collapse in patientswith tracheomalacia or airway disease. Dynamicscanning may also be performed to assess somevascular abnormalities.\n",
      "\n",
      "** Low-Dose CT **\n",
      "Reducing the radiation dose is desirable whenever possible but generally results in decreasedimage quality because of increased noise. Theterm low-dose CT usually implies the use of areduced tube current (milliamperes or mA) during the scan. Low-dose chest CT is typically usedin children, for screening of patients (i.e., lungcancer screening), or if multiple follow-up examinations will be necessary.With current MDCT scanners, the tube current (mA) can be varied or modulated at differentlevels as the patient is scanned, according to thechest wall thickness or amount of soft tissuewithin the volume being scanned. Because thelungs are not very dense, not much current isneeded when the lungs (rather than the shouldersor liver) are being scanned. This technique cansignificantly reduce the current and patient dosewithout much loss of scan quality and is usuallyemployed for routine studies. A fixed, higher current is typically used when high resolution anddetail are needed (e.g., for pulmonary embolismdiagnosis).\n",
      "\n",
      "** RADIATION DOSE WITH CHEST CT **\n",
      "Although the patient risk from radiation exposure during diagnostic CT is small and difficultto determine, medical radiation does result in afinite risk. In clinical practice, the patient’spotential benefits from a CT study need to bebalanced against the small risk resulting fromCT. In general, if the study has welldefinedclinical utility, it is indicated. Nonetheless, it isimportant for the radiologist to reduce radiationexposure during diagnostic CT, as long asimportant diagnostic information is not compromised as a result.The radiation dose and the associated risk tothe patient can be calculated using differentmethods and measurements, none of which isideal or necessarily predictive of outcome. Thecalculation most typically used is the effectivedose [measured in Sieverts (Sv) or more typicallymilliSieverts (mSv)], which is determined by\n",
      "\n"
     ]
    }
   ],
   "source": [
    "from layoutparser.elements import TextBlock\n",
    "\n",
    "def process_page_DNN(pg: Page, pad=0.005, resolution=123):\n",
    "    assert 0<=pad<1\n",
    "    continuation = \"\"   # base text continuing from previous page's last entry\n",
    "    mode = \"startup\"    # startup, header, body\n",
    "    entries = []        # list of (header, text) tuples\n",
    "    current_entry = [\"\", \"\"]  # current entry (header, text)\n",
    "    done = False        # whether we've reached the end of the chapter (e.x. sugguested readings section)\n",
    "    \n",
    "    SKIP_BADPUNC = True\n",
    "    \n",
    "    pg_num = pg.page_number\n",
    "    im = pg.to_image(resolution=resolution).annotated\n",
    "    labels = get_labels(im)\n",
    "    \n",
    "    w_im,h_im = im.size\n",
    "    w_pg,h_pg = pg.width,pg.height\n",
    "    w_ratio,h_ratio = w_pg/w_im,h_pg/h_im\n",
    "    \n",
    "    for i,label in enumerate(labels):\n",
    "        label: TextBlock\n",
    "        # print(label)\n",
    "        \n",
    "        kind = label.type\n",
    "        assert kind in (\"Text\", \"Title\")\n",
    "                \n",
    "        x0,y0,x1,y1 = label.coordinates\n",
    "        x0,x1 = (x0-pad*w_im)*w_ratio, (x1+pad*w_im)*w_ratio\n",
    "        y0,y1 = (y0-pad*h_im)*h_ratio, (y1+pad*h_im)*h_ratio\n",
    "        \n",
    "        # TODO detect+rm overlap (ensure text is not duplicated)\n",
    "        # section = pg.crop((x0,y0,x1,y1))\n",
    "        # sec = section.to_image(resolution=123).annotated\n",
    "        # plt.imshow(sec)\n",
    "        # display(sec)\n",
    "\n",
    "        txt = pg.within_bbox((x0,y0,x1,y1)).extract_text()\n",
    "        txt = process_text(txt, pg_num=pg_num)\n",
    "        # print(txt)\n",
    "        \n",
    "        if txt == 'SUGGESTED READING':\n",
    "            print(f'### PG {pg_num} :: Found end of chapter, stopping early ###')\n",
    "            done = True\n",
    "            if mode == \"body\":\n",
    "                entries.append([ent.strip() for ent in current_entry])\n",
    "            return entries, continuation.strip(), done\n",
    "\n",
    "        if kind == \"Title\":\n",
    "            match mode:\n",
    "                case \"header\":\n",
    "                    current_entry[0] += txt\n",
    "                case \"startup\":\n",
    "                    if continuation!=\"\" and not continuation.strip().endswith(TERM_PUNC):\n",
    "                        print(f'### PG {pg_num}, Box {i} :: Continuation does not end with punctuation: {continuation.strip()[-1]}')\n",
    "                        if SKIP_BADPUNC: \n",
    "                            print(f'### > skipping `{txt}`')\n",
    "                            continue\n",
    "                    mode = \"header\"\n",
    "                    current_entry = [txt, \"\"]\n",
    "                case \"body\":\n",
    "                    if continuation!=\"\" and not current_entry[1].strip().endswith(TERM_PUNC):\n",
    "                        print(f'### PG {pg_num}, Box {i} :: Body does not end with punctuation: {current_entry[1].strip()[-1]}')\n",
    "                        if SKIP_BADPUNC: \n",
    "                            print(f'### > skipping `{txt}`')\n",
    "                            continue\n",
    "                    mode = \"header\"\n",
    "                    entries.append([ent.strip() for ent in current_entry])\n",
    "                    current_entry = [txt, \"\"]\n",
    "        elif kind == \"Text\":\n",
    "            match mode:\n",
    "                case \"header\":\n",
    "                    mode = \"body\"\n",
    "                    current_entry[1] += txt\n",
    "                case \"startup\":\n",
    "                    if txt.endswith(TERM_PUNC):\n",
    "                        txt += \"\\n\"\n",
    "                    continuation += txt\n",
    "                case \"body\":\n",
    "                    # if re.match(r'[.?!]', txt[-1]):\n",
    "                    if txt.endswith(TERM_PUNC):\n",
    "                        txt += \"\\n\"\n",
    "                    current_entry[1] += txt\n",
    "\n",
    "    match mode:\n",
    "        case \"body\":\n",
    "            entries.append([ent.strip() for ent in current_entry])\n",
    "        case \"header\", \"startup\":\n",
    "            print(\"### Ended on\", mode, \"-- this should not happen\")\n",
    "    \n",
    "            \n",
    "    continuation = process_text(continuation)\n",
    "    for i, (_h, b) in enumerate(entries):\n",
    "        entries[i][1] = process_text(b)\n",
    "\n",
    "    return entries, continuation, done\n",
    "\n",
    "    \n",
    "ent, cont, done = process_page_DNN(pg)\n",
    "\n",
    "print('\\n' + '='*80)\n",
    "print(\"cont:\", cont, \"\\n\")\n",
    "for h, b in ent:\n",
    "    print(\"**\", h, \"**\")\n",
    "    print(b)\n",
    "    print()"
   ]
  },
  {
   "cell_type": "markdown",
   "metadata": {},
   "source": [
    "# main -- file parsing"
   ]
  },
  {
   "cell_type": "code",
   "execution_count": 80,
   "metadata": {},
   "outputs": [
    {
     "name": "stdout",
     "output_type": "stream",
     "text": [
      "Processing ch1\n"
     ]
    },
    {
     "data": {
      "application/vnd.jupyter.widget-view+json": {
       "model_id": "e5b5e5c93a3648bcaffcf86e997ebf7d",
       "version_major": 2,
       "version_minor": 0
      },
      "text/plain": [
       "  0%|          | 0/6 [00:00<?, ?it/s]"
      ]
     },
     "metadata": {},
     "output_type": "display_data"
    },
    {
     "name": "stdout",
     "output_type": "stream",
     "text": [
      "### PG: 7 Box: 5 :: Body does not end with punctuation: n\n",
      "### > skipping `I ctntroductIon to oft : c ctthe horax hesttechnIques`\n",
      "###  Failed to dehyphenate word: reconstructions,three-dimensional\n",
      "### PG: 11 Box: 4 :: Body does not end with punctuation: :\n",
      "### > skipping `Dynamic CT Techniques`\n",
      "### PG: 12 :: Found end of chapter, stopping early ###\n",
      "Saved to scrape_out/Chest - Webb - Fundamentals of Body CT (4e)_ch1_deep.csv\n",
      "Processing ch2\n"
     ]
    },
    {
     "data": {
      "application/vnd.jupyter.widget-view+json": {
       "model_id": "33622410b2194f459b3d2be2d8a7c81c",
       "version_major": 2,
       "version_minor": 0
      },
      "text/plain": [
       "  0%|          | 0/14 [00:00<?, ?it/s]"
      ]
     },
     "metadata": {},
     "output_type": "display_data"
    },
    {
     "name": "stdout",
     "output_type": "stream",
     "text": [
      "### PG: 13 Box: 5 :: Body does not end with punctuation: y\n",
      "### > skipping `MediastinuMntroduction ann aorMal natoM`\n",
      "Saved to scrape_out/Chest - Webb - Fundamentals of Body CT (4e)_ch2_deep.csv\n",
      "Processing ch3\n"
     ]
    },
    {
     "data": {
      "application/vnd.jupyter.widget-view+json": {
       "model_id": "84fff6ba4a7c4089ba9e25ddaff6d090",
       "version_major": 2,
       "version_minor": 0
      },
      "text/plain": [
       "  0%|          | 0/23 [00:00<?, ?it/s]"
      ]
     },
     "metadata": {},
     "output_type": "display_data"
    },
    {
     "name": "stdout",
     "output_type": "stream",
     "text": [
      "###  Failed to dehyphenate word: post-traumatic(i.\n",
      "### PG 34 ::  Failed to dehyphenate word: (ECG)-gated\n",
      "###  Failed to dehyphenate word: (ECG)-gated\n",
      "###  Failed to dehyphenate word: or“worm-shaped,”\n",
      "###  Failed to dehyphenate word: ill-defined,and\n",
      "### PG: 47 Box: 4 :: Continuation does not end with punctuation: n\n",
      "### > skipping `Pericardial Abnormalities`\n",
      "### PG: 47 Box: 5 :: Continuation does not end with punctuation: n\n",
      "### > skipping `Pericardial Effusion, Thickening,and Fibrosis`\n",
      "### PG: 49 :: Found end of chapter, stopping early ###\n",
      "Saved to scrape_out/Chest - Webb - Fundamentals of Body CT (4e)_ch3_deep.csv\n",
      "Processing ch4\n"
     ]
    },
    {
     "data": {
      "application/vnd.jupyter.widget-view+json": {
       "model_id": "2a6fc8c5eb5946ee83bfa860f00a5391",
       "version_major": 2,
       "version_minor": 0
      },
      "text/plain": [
       "  0%|          | 0/24 [00:00<?, ?it/s]"
      ]
     },
     "metadata": {},
     "output_type": "display_data"
    },
    {
     "name": "stdout",
     "output_type": "stream",
     "text": [
      "### PG: 54 Box: 1 :: Continuation does not end with punctuation: )\n",
      "### > skipping `additional groups.son of IASLC zones and AJCC/UICC lymph nodestations, and a diagrammatic representation ofAJCC/UICC lymph node stations isprovided for localization of node zones.`\n",
      "### PG: 54 Box: 2 :: Continuation does not end with punctuation: )\n",
      "### > skipping `CT APPEARANCE OF LYMPHNODES`\n",
      "### PG 56 ::  Failed to dehyphenate word: non–small-cell\n",
      "###  Failed to dehyphenate word: non–small-cell\n",
      "### PG: 64 Box: 7 :: Body does not end with punctuation: c\n",
      "### > skipping `Thymoma`\n",
      "### PG: 73 :: Found end of chapter, stopping early ###\n",
      "Saved to scrape_out/Chest - Webb - Fundamentals of Body CT (4e)_ch4_deep.csv\n",
      "Processing ch5\n"
     ]
    },
    {
     "data": {
      "application/vnd.jupyter.widget-view+json": {
       "model_id": "54b939f796204e8a9d92cf1c61a30287",
       "version_major": 2,
       "version_minor": 0
      },
      "text/plain": [
       "  0%|          | 0/21 [00:00<?, ?it/s]"
      ]
     },
     "metadata": {},
     "output_type": "display_data"
    },
    {
     "name": "stdout",
     "output_type": "stream",
     "text": [
      "### PG: 94 :: Found end of chapter, stopping early ###\n",
      "Saved to scrape_out/Chest - Webb - Fundamentals of Body CT (4e)_ch5_deep.csv\n",
      "Processing ch6\n"
     ]
    },
    {
     "data": {
      "application/vnd.jupyter.widget-view+json": {
       "model_id": "67452ecc8b9342c1920cdd097d9f6ccf",
       "version_major": 2,
       "version_minor": 0
      },
      "text/plain": [
       "  0%|          | 0/40 [00:00<?, ?it/s]"
      ]
     },
     "metadata": {},
     "output_type": "display_data"
    },
    {
     "name": "stdout",
     "output_type": "stream",
     "text": [
      "###  Failed to dehyphenate word: ring-shaped,with\n",
      "### PG: 102 Box: 6 :: Body does not end with punctuation: :\n",
      "### > skipping `Anomalous Pulmonary VenousReturn`\n",
      "### PG: 104 Box: 5 :: Body does not end with punctuation: s\n",
      "### > skipping `and some other focal lesions can have characteristic appearances on CT, which may be diagnosticor suggest a limited differential.`\n",
      "### PG: 113 Box: 1 :: Continuation does not end with punctuation: ”\n",
      "### > skipping `Nodule Opacification`\n",
      "###  Failed to dehyphenate word: mm,follow-up\n",
      "### PG: 117 Box: 5 :: Body does not end with punctuation: d\n",
      "### > skipping `Amyloidosis`\n",
      "### PG: 118 Box: 4 :: Continuation does not end with punctuation: o\n",
      "### > skipping `Focal Tracheal Abnormalities`\n",
      "### PG: 120 Box: 5 :: Continuation does not end with punctuation: r\n",
      "### > skipping `Bronchitis`\n",
      "### PG: 129 Box: 4 :: Continuation does not end with punctuation: :\n",
      "### > skipping `Collagen Vascular Diseases`\n",
      "### PG: 131 Box: 3 :: Body does not end with punctuation: :\n",
      "### > skipping `Silicosis and Coal Workers’Pneumoconiosis`\n",
      "### PG: 131 Box: 5 :: Body does not end with punctuation: :\n",
      "### > skipping `Tuberculosis`\n",
      "### PG: 131 Box: 7 :: Body does not end with punctuation: :\n",
      "### > skipping `Pulmonary Alveolar Proteinosis`\n",
      "### PG: 131 Box: 11 :: Body does not end with punctuation: :\n",
      "### > skipping `Lymphangiomyomatosis (LAM)`\n",
      "### PG: 133 :: Found end of chapter, stopping early ###\n",
      "Saved to scrape_out/Chest - Webb - Fundamentals of Body CT (4e)_ch6_deep.csv\n",
      "Processing ch7\n"
     ]
    },
    {
     "data": {
      "application/vnd.jupyter.widget-view+json": {
       "model_id": "fc04041acab540a2ac51db5ae845e2f3",
       "version_major": 2,
       "version_minor": 0
      },
      "text/plain": [
       "  0%|          | 0/17 [00:00<?, ?it/s]"
      ]
     },
     "metadata": {},
     "output_type": "display_data"
    },
    {
     "name": "stdout",
     "output_type": "stream",
     "text": [
      "###  Failed to dehyphenate word: cross-section,this\n",
      "### PG: 141 Box: 4 :: Continuation does not end with punctuation: d\n",
      "### > skipping `Thoracostomy Tubes`\n",
      "### PG: 150 :: Found end of chapter, stopping early ###\n",
      "Saved to scrape_out/Chest - Webb - Fundamentals of Body CT (4e)_ch7_deep.csv\n",
      "Processing ch8\n"
     ]
    },
    {
     "data": {
      "application/vnd.jupyter.widget-view+json": {
       "model_id": "5ad2d8d5bbf04ac99a4d0eb261f01b9c",
       "version_major": 2,
       "version_minor": 0
      },
      "text/plain": [
       "  0%|          | 0/25 [00:00<?, ?it/s]"
      ]
     },
     "metadata": {},
     "output_type": "display_data"
    },
    {
     "name": "stdout",
     "output_type": "stream",
     "text": [
      "### PG: 152 Box: 4 :: Body does not end with punctuation: e\n",
      "### > skipping `I ctntroductIon to ofA Pthe bdomen And elvIs`\n",
      "### PG: 175 :: Found end of chapter, stopping early ###\n",
      "Saved to scrape_out/Chest - Webb - Fundamentals of Body CT (4e)_ch8_deep.csv\n",
      "Processing ch9\n"
     ]
    },
    {
     "data": {
      "application/vnd.jupyter.widget-view+json": {
       "model_id": "6e9f668db7f0425d83534de5c8f6f83d",
       "version_major": 2,
       "version_minor": 0
      },
      "text/plain": [
       "  0%|          | 0/12 [00:00<?, ?it/s]"
      ]
     },
     "metadata": {},
     "output_type": "display_data"
    },
    {
     "name": "stdout",
     "output_type": "stream",
     "text": [
      "### PG: 188 :: Found end of chapter, stopping early ###\n",
      "Saved to scrape_out/Chest - Webb - Fundamentals of Body CT (4e)_ch9_deep.csv\n",
      "Processing ch10\n"
     ]
    },
    {
     "data": {
      "application/vnd.jupyter.widget-view+json": {
       "model_id": "9975eb3b228e4b2386c2d7bf768d3847",
       "version_major": 2,
       "version_minor": 0
      },
      "text/plain": [
       "  0%|          | 0/26 [00:00<?, ?it/s]"
      ]
     },
     "metadata": {},
     "output_type": "display_data"
    },
    {
     "name": "stdout",
     "output_type": "stream",
     "text": [
      "### PG: 200 Box: 5 :: Body does not end with punctuation: :\n",
      "### > skipping `Portal Vein Thrombosis`\n",
      "### PG: 202 Box: 1 :: Continuation does not end with punctuation: g\n",
      "### > skipping `Budd–Chiari Syndrome`\n",
      "### PG 208 ::  Failed to dehyphenate word: Chest–abdomen–pel-\n",
      "###  Failed to dehyphenate word: Chest–abdomen–pel-vis\n",
      "###  Failed to dehyphenate word: large,thin-walled,\n",
      "### PG: 212 Box: 1 :: Continuation does not end with punctuation: n\n",
      "### > skipping `Pyogenic Abscess`\n",
      "### PG: 214 :: Found end of chapter, stopping early ###\n",
      "Saved to scrape_out/Chest - Webb - Fundamentals of Body CT (4e)_ch10_deep.csv\n",
      "Processing ch11\n"
     ]
    },
    {
     "data": {
      "application/vnd.jupyter.widget-view+json": {
       "model_id": "5b8e4d961b4243f8ba0e69bfb32fe8ce",
       "version_major": 2,
       "version_minor": 0
      },
      "text/plain": [
       "  0%|          | 0/11 [00:00<?, ?it/s]"
      ]
     },
     "metadata": {},
     "output_type": "display_data"
    },
    {
     "name": "stdout",
     "output_type": "stream",
     "text": [
      "### PG: 215 Box: 1 :: Continuation does not end with punctuation: t\n",
      "### > skipping `BILIARY TREE`\n",
      "### PG: 217 Box: 2 :: Continuation does not end with punctuation: s\n",
      "### > skipping `Choledocholithiasis`\n",
      "### PG: 225 :: Found end of chapter, stopping early ###\n",
      "Saved to scrape_out/Chest - Webb - Fundamentals of Body CT (4e)_ch11_deep.csv\n",
      "Processing ch12\n"
     ]
    },
    {
     "data": {
      "application/vnd.jupyter.widget-view+json": {
       "model_id": "f55e2652ca2f407d9c9ef9c2c26259e5",
       "version_major": 2,
       "version_minor": 0
      },
      "text/plain": [
       "  0%|          | 0/16 [00:00<?, ?it/s]"
      ]
     },
     "metadata": {},
     "output_type": "display_data"
    },
    {
     "name": "stdout",
     "output_type": "stream",
     "text": [
      "Saved to scrape_out/Chest - Webb - Fundamentals of Body CT (4e)_ch12_deep.csv\n",
      "Processing ch13\n"
     ]
    },
    {
     "data": {
      "application/vnd.jupyter.widget-view+json": {
       "model_id": "7d554ee6f44245e8af15d841c0a955d4",
       "version_major": 2,
       "version_minor": 0
      },
      "text/plain": [
       "  0%|          | 0/9 [00:00<?, ?it/s]"
      ]
     },
     "metadata": {},
     "output_type": "display_data"
    },
    {
     "name": "stdout",
     "output_type": "stream",
     "text": [
      "###  Failed to dehyphenate word: spleen,contrast-enhanced\n",
      "### PG: 250 :: Found end of chapter, stopping early ###\n",
      "Saved to scrape_out/Chest - Webb - Fundamentals of Body CT (4e)_ch13_deep.csv\n",
      "Processing ch14\n"
     ]
    },
    {
     "data": {
      "application/vnd.jupyter.widget-view+json": {
       "model_id": "b93af55c8af949009e17803c18410a07",
       "version_major": 2,
       "version_minor": 0
      },
      "text/plain": [
       "  0%|          | 0/28 [00:00<?, ?it/s]"
      ]
     },
     "metadata": {},
     "output_type": "display_data"
    },
    {
     "name": "stdout",
     "output_type": "stream",
     "text": [
      "### PG: 251 Box: 1 :: Continuation does not end with punctuation: t\n",
      "### > skipping `Anatomy of the Retroperitoneal Space`\n",
      "###  Failed to dehyphenate word: non-neoplastic,fluid-filled\n",
      "### PG: 268 Box: 1 :: Continuation does not end with punctuation: :\n",
      "### > skipping `Multicystic Dysplastic Kidney`\n",
      "### PG: 278 :: Found end of chapter, stopping early ###\n",
      "Saved to scrape_out/Chest - Webb - Fundamentals of Body CT (4e)_ch14_deep.csv\n",
      "Processing ch15\n"
     ]
    },
    {
     "data": {
      "application/vnd.jupyter.widget-view+json": {
       "model_id": "64668e6c825e4fa48ef4af4ef50afceb",
       "version_major": 2,
       "version_minor": 0
      },
      "text/plain": [
       "  0%|          | 0/12 [00:00<?, ?it/s]"
      ]
     },
     "metadata": {},
     "output_type": "display_data"
    },
    {
     "name": "stdout",
     "output_type": "stream",
     "text": [
      "### PG: 287 Box: 1 :: Continuation does not end with punctuation: f\n",
      "### > skipping `Features that Characterize BenignAdenomas and Adrenal Metastases`\n",
      "### PG: 290 :: Found end of chapter, stopping early ###\n",
      "Saved to scrape_out/Chest - Webb - Fundamentals of Body CT (4e)_ch15_deep.csv\n",
      "Processing ch16\n"
     ]
    },
    {
     "data": {
      "application/vnd.jupyter.widget-view+json": {
       "model_id": "cd06e6c820a54afba327bc262e3c8035",
       "version_major": 2,
       "version_minor": 0
      },
      "text/plain": [
       "  0%|          | 0/33 [00:00<?, ?it/s]"
      ]
     },
     "metadata": {},
     "output_type": "display_data"
    },
    {
     "name": "stdout",
     "output_type": "stream",
     "text": [
      "### PG: 295 Box: 5 :: Body does not end with punctuation: r\n",
      "### > skipping `Esophagitis`\n",
      "### PG: 322 :: Found end of chapter, stopping early ###\n",
      "Saved to scrape_out/Chest - Webb - Fundamentals of Body CT (4e)_ch16_deep.csv\n",
      "Processing ch17\n"
     ]
    },
    {
     "data": {
      "application/vnd.jupyter.widget-view+json": {
       "model_id": "83233bf4a670444da9f51fc3d3ca697a",
       "version_major": 2,
       "version_minor": 0
      },
      "text/plain": [
       "  0%|          | 0/17 [00:00<?, ?it/s]"
      ]
     },
     "metadata": {},
     "output_type": "display_data"
    },
    {
     "name": "stdout",
     "output_type": "stream",
     "text": [
      "###  Failed to dehyphenate word: fluid-filled,tubular\n",
      "### PG: 339 :: Found end of chapter, stopping early ###\n",
      "Saved to scrape_out/Chest - Webb - Fundamentals of Body CT (4e)_ch17_deep.csv\n",
      "Processing ch18\n"
     ]
    },
    {
     "data": {
      "application/vnd.jupyter.widget-view+json": {
       "model_id": "845d1fec4d424bd8ac25691a58b0e19b",
       "version_major": 2,
       "version_minor": 0
      },
      "text/plain": [
       "  0%|          | 0/9 [00:00<?, ?it/s]"
      ]
     },
     "metadata": {},
     "output_type": "display_data"
    },
    {
     "name": "stdout",
     "output_type": "stream",
     "text": [
      "### PG: 349 :: Found end of chapter, stopping early ###\n",
      "Saved to scrape_out/Chest - Webb - Fundamentals of Body CT (4e)_ch18_deep.csv\n",
      "Processing ch19\n"
     ]
    },
    {
     "data": {
      "application/vnd.jupyter.widget-view+json": {
       "model_id": "85369980db6841369c8d2748d90eabb1",
       "version_major": 2,
       "version_minor": 0
      },
      "text/plain": [
       "  0%|          | 0/14 [00:00<?, ?it/s]"
      ]
     },
     "metadata": {},
     "output_type": "display_data"
    },
    {
     "name": "stdout",
     "output_type": "stream",
     "text": [
      "### PG 350 ::  Failed to dehyphenate word: mid–vertebral-body\n",
      "###  Failed to dehyphenate word: mid–vertebral-body\n",
      "### PG: 363 :: Found end of chapter, stopping early ###\n",
      "Saved to scrape_out/Chest - Webb - Fundamentals of Body CT (4e)_ch19_deep.csv\n",
      "Processing ch20\n"
     ]
    },
    {
     "data": {
      "application/vnd.jupyter.widget-view+json": {
       "model_id": "dbe001492c024fcf8b34c5d4f9a927f9",
       "version_major": 2,
       "version_minor": 0
      },
      "text/plain": [
       "  0%|          | 0/7 [00:00<?, ?it/s]"
      ]
     },
     "metadata": {},
     "output_type": "display_data"
    },
    {
     "name": "stdout",
     "output_type": "stream",
     "text": [
      "### PG: 370 :: Found end of chapter, stopping early ###\n",
      "Saved to scrape_out/Chest - Webb - Fundamentals of Body CT (4e)_ch20_deep.csv\n"
     ]
    }
   ],
   "source": [
    "from tqdm.notebook import tqdm\n",
    "import csv\n",
    "\n",
    "def process_file(fname: Path):\n",
    "    config = Config(fname)\n",
    "    chapters = config.chapter_range()\n",
    "    # chapters = [config.chapter_range()[0]]\n",
    "    pdf = pdfplumber.open(fname, laparams=dict(detect_vertical=False)).pages\n",
    "    \n",
    "    for i, ch in enumerate(chapters,1):\n",
    "        # pdf: fitz.Document = fitz.open(fname)\n",
    "        # pdf.select(range(*ch))\n",
    "        \n",
    "        start, end = ch\n",
    "        pages = pdf[start:end]\n",
    "        \n",
    "        print(f\"Processing ch{i}\")\n",
    "\n",
    "        rows_label = ['header','body']\n",
    "        ch_entries = [rows_label]\n",
    "        \n",
    "        progress = tqdm(pages)\n",
    "        for pg in progress:\n",
    "        # for pg in pdf:\n",
    "            entries, cont, done = process_page_DNN(pg)\n",
    "            # entries, cont, done = process_page(pg)\n",
    "\n",
    "            if cont:\n",
    "                if ch_entries and ch_entries[-1] != rows_label:\n",
    "                    ch_entries[-1][1] = ch_entries[-1][1] + cont\n",
    "                else:\n",
    "                    ch_entries.append([\"[Chapter Introduction]\", cont])\n",
    "\n",
    "            ch_entries += entries \n",
    "\n",
    "            if done:\n",
    "                progress.close()\n",
    "                break\n",
    "\n",
    "        outdir = Path(\"scrape_out\")\n",
    "        outdir.mkdir(exist_ok=True)\n",
    "        with open(outdir / f\"{fname.stem}_ch{i}_deep.csv\", \"w\") as f:\n",
    "            writer = csv.writer(f)\n",
    "            writer.writerows(ch_entries)\n",
    "            print(f\"Saved to {f.name}\")\n",
    "\n",
    "\n",
    "process_file(fname)"
   ]
  },
  {
   "cell_type": "markdown",
   "metadata": {},
   "source": [
    "# appendix (old code)"
   ]
  },
  {
   "cell_type": "markdown",
   "metadata": {},
   "source": [
    "### `pdfplumber`"
   ]
  },
  {
   "cell_type": "code",
   "execution_count": null,
   "metadata": {},
   "outputs": [],
   "source": [
    "import pdfplumber\n",
    "\n",
    "pdf = pdfplumber.open(fname, laparams={\"detect_vertical\": False}).pages"
   ]
  },
  {
   "cell_type": "code",
   "execution_count": null,
   "metadata": {},
   "outputs": [],
   "source": [
    "start, end = config.chapter_range()[0]\n",
    "pages = pdf[start:end]\n",
    "pg = pages[3]\n",
    "pg.to_image(resolution=123).draw_rects(pg.textboxhorizontals).show()"
   ]
  },
  {
   "cell_type": "code",
   "execution_count": null,
   "metadata": {},
   "outputs": [
    {
     "name": "stdout",
     "output_type": "stream",
     "text": [
      "Acute aortic syndrome overview of acute aortic syndrome •  Acute aorti c syndrome represents a clinical spectrum of three related diseases  that are characterized by damage to at least one component of the aorti c wall, and  presents as severe chest pain. •  A defect primarily in the inti ma is seen in penetrati ng atheroscleroti c ulcer (PAU). •  A defect in the media only describes intramural hematoma (ImH). •  A defect in the inti ma extending to media is the hallmark of aorti c dissecti on. •  A defect in all three layers (aorti c transecti on) is almost always due to trauma and is  considered a separate enti ty. •  The treatment of acute aorti c syndrome depends primarily on the locati on (ascending  versus descending aorta) and is oft en the same regardless of the underlying eti ology. Ascending aorta: Treatment is most commonly surgical. Descending aorta: Treatment is most commonly medical (blood pressure control). •  Imaging of the full aorta is generally required in any acute aorti c pathology.  Aortic dissection Dissection adventitia media intima     false lumen true lumen  é     ll ‘V Intima is disrupted, typically by an ulcerative plaque, trauma, or aneurysm. An intimomedial flap is created. The media is “dissected” and expanded by either the false lumen (if blood is flowing) or intramural hematoma (if filled with clot). Blood flow is slower in the false lumen, leading to thrombosis.  Blood exits the false lumen via a re-entry tear. Typically, the re-entry tear obstructs the outflow leading to higher pressures in the false lumen. This pressure differential contributes to compression of the true lumen and differences in contrast  opacification between the true and false lumens. •  The key feature of dissecti on is a disrupti on in the inti ma, which allows high-pressure  blood to infi ltrate and expand the media. •  The most common risk factor for aorti c dissecti on is hypertension, but other risk  factors include connecti ve ti ssue disorders (especially marfan syndrome), cocaine  use, aortopathy associated with a bicuspid aorti c valve, weight lift ing, and sudden  decelerati on injury.  •  The classifi cati on of aorti c dissecti on is the Stanford classifi cati on, which divides  dissecti on into types A (ascending aorta) and B (non-ascending aorta). Type A is  typically treated surgically, and type B is typically treated medically. Aorti c dissecti on secondary to atherosclerosis is more commonly type B (descending aorta). 661  \n"
     ]
    }
   ],
   "source": [
    "# text = pg.extract_text()\n",
    "# print(text)\n",
    "\n",
    "words = pg.extract_words()\n",
    "words = pg.extract_words(use_text_flow=True, x_tolerance=7, keep_blank_chars=True)\n",
    "print(\" \".join([w['text'] for w in words]))"
   ]
  },
  {
   "cell_type": "code",
   "execution_count": null,
   "metadata": {},
   "outputs": [],
   "source": [
    "from pdfplumber.page import Page\n",
    "from collections import deque\n",
    "\n",
    "def process_page(pg: Page):\n",
    "    assert not isinstance(pg, pdfplumber.page.CroppedPage)\n",
    "    assert pg.textboxhorizontals, \"Pass `laparams={...}` when opening the PDF file\"\n",
    "\n",
    "    if (pg.page_number % 2) and config[\"odd_spread\"]:\n",
    "        crop_box = (\n",
    "            config[\"crop_outer\"],\n",
    "            config[\"crop_top\"],\n",
    "            pg.width - config[\"crop_inner\"],\n",
    "            pg.height - config[\"crop_bot\"],\n",
    "        )\n",
    "    else:\n",
    "        crop_box = (\n",
    "            config[\"crop_inner\"],\n",
    "            config[\"crop_top\"],\n",
    "            pg.width - config[\"crop_outer\"],\n",
    "            pg.height - config[\"crop_bot\"],\n",
    "        )\n",
    "\n",
    "    pg_crop = pg.within_bbox(crop_box)\n",
    "    # pg.to_image(resolution=123).draw_rects(pg_crop.textboxhorizontals).show()\n",
    "    # pg.to_image(resolution=123).draw_rects(pg_crop.extract_words()).show()\n",
    "\n",
    "    continuation = \"\"  # base text continuing from previous page's last entry\n",
    "    mode = \"startup\"  # startup, header, body\n",
    "    entries = []  # list of (header, text) tuples\n",
    "    current_entry = [\"\", \"\"]  # current entry (header, text)\n",
    "\n",
    "    last_y = float(\"inf\")\n",
    "\n",
    "    # todo can I pass args s.t. this correctly parses two columns; or figure out how to order via x0/x1\n",
    "    for i, box in enumerate(pg_crop.textboxhorizontals):  # [26:27]\n",
    "        # text = box['text']\n",
    "        # text = re.sub(r'\\n', ' ', text)\n",
    "        # text = re.sub(r'\\s+', ' ', text)\n",
    "        # words = text.split()\n",
    "        # print(words)\n",
    "        # if len(words) < 4: continue\n",
    "\n",
    "        x0, y0, x1, y1 = box[\"x0\"], box[\"y0\"], box[\"x1\"], box[\"y1\"]\n",
    "        bbox = (x0, pg.height - y1, x1, pg.height - y0)  # = (x0, y0, x1, y1)\n",
    "        pg_bbox = pg.crop(bbox, relative=True)\n",
    "\n",
    "        if mode == \"body\" and not (\n",
    "            abs(y1 - last_y) > 0.8 * pg.height\n",
    "        ):  # condition of text continuation across columns\n",
    "            current_entry[1] += \"\\n\"\n",
    "\n",
    "        last_y = y0\n",
    "\n",
    "        chars = deque(\n",
    "            [\n",
    "                c\n",
    "                for c in pg_bbox.chars\n",
    "                if c[\"fontname\"] not in config[\"font_ignore_names\"]\n",
    "            ]\n",
    "        )\n",
    "        # print([c for c in pg_bbox.chars if c['fontname'] in config[\"font_ignore_names\"]])\n",
    "        words = pg_bbox.extract_words()\n",
    "\n",
    "        # pg_bbox.to_image(resolution=150).draw_rects(chars).show()\n",
    "\n",
    "        for w in words:\n",
    "            # ! TODO Find a better way to do this\n",
    "            try:\n",
    "                while not w[\"text\"][0].startswith(chars[0][\"text\"]):\n",
    "                    # print(w[\"text\"], chars[0][\"text\"])\n",
    "                    chars.popleft()\n",
    "\n",
    "                # if chars:\n",
    "                #     chars.popleft()\n",
    "            except IndexError as e:\n",
    "                #  \"\".join([w[\"text\"] for w in words])\n",
    "                print(f\"Box {i}: Could not parse the box of text: {e}\")\n",
    "                print(\" \".join([w[\"text\"] for w in words]))\n",
    "                print(\"\".join([c[\"text\"] for c in pg_bbox.chars]))\n",
    "                break\n",
    "\n",
    "            txt = w[\"text\"].strip()\n",
    "            if txt.endswith(\"-\") and abs(w[\"x1\"] - x1) < 0.08 * pg.width:\n",
    "                txt = txt[:-1]\n",
    "            else:\n",
    "                txt = txt + \" \"\n",
    "\n",
    "            fname = chars[0][\"fontname\"]\n",
    "            if fname in config[\"font_header_names\"]:\n",
    "                match mode:\n",
    "                    case \"startup\":\n",
    "                        mode = \"header\"\n",
    "                        current_entry = [txt, \"\"]\n",
    "                    case \"header\":\n",
    "                        current_entry[0] += txt\n",
    "                    case \"body\":\n",
    "                        mode = \"header\"\n",
    "                        entries.append([ent.strip() for ent in current_entry])\n",
    "                        current_entry = [txt, \"\"]\n",
    "            elif fname in config[\"font_body_names\"]:\n",
    "                match mode:\n",
    "                    case \"startup\":\n",
    "                        continuation += txt\n",
    "                    case \"header\":\n",
    "                        mode = \"body\"\n",
    "                        current_entry[1] += txt\n",
    "                    case \"body\":\n",
    "                        current_entry[1] += txt\n",
    "            elif fname in config[\"font_ignore_names\"]:\n",
    "                continue\n",
    "            else:\n",
    "                print(f\"Unknown font {fname}: '{txt}'\")\n",
    "                # pg_bbox.to_image(resolution=123).draw_rects(chars).show()\n",
    "\n",
    "        # pg_bbox.to_image(resolution=150).show()\n",
    "        # pg_bbox.to_image(resolution=150).draw_rects(chars).show()\n",
    "\n",
    "    return entries, continuation\n",
    "\n",
    "\n",
    "ent, cont = process_page(pg)\n",
    "print(\"cont:\", cont, \"\\n\")\n",
    "for h, b in ent:\n",
    "    print(\"**\", h, \"**\")\n",
    "    print(b)\n",
    "    print()"
   ]
  },
  {
   "cell_type": "markdown",
   "metadata": {},
   "source": [
    "### `fitz` "
   ]
  },
  {
   "cell_type": "code",
   "execution_count": null,
   "metadata": {},
   "outputs": [],
   "source": [
    "class Config:\n",
    "    # todo typeing for font_* sets\n",
    "    odd_spread = True  # inner corresponds to right-side of odd pages, left-side of even pages\n",
    "    crop_top: int = 0\n",
    "    crop_inner: int = 0\n",
    "    crop_bot: int = 0\n",
    "    crop_outer: int = 0\n",
    "    font_header: Set[Tuple[int, str]] = set()\n",
    "    font_body: Set[Tuple[int, str]] = set()\n",
    "    font_ignore: Set[Tuple[int, str]] = set()\n",
    "    font_ignore_names: Set[str] = set()\n",
    "    chapters: List[int] = None\n",
    "\n",
    "    def __init__(self, fname: Path):\n",
    "        match fname.name:\n",
    "            case \"Chest - Elicker - HRCT of the Lungs 2e.pdf\":\n",
    "                self.crop_top = 65\n",
    "                self.crop_inner = 40\n",
    "                self.crop_bot = 30\n",
    "                self.crop_outer = 40\n",
    "                self.chapters = [49, 62, 83, 104, 116, 129, 150, 166, 174, 199, 212, 221, 233, 247, 265, 274, 283, 296, 305]\n",
    "                \n",
    "            case \"Chest - Felson - Principles of Chest Roentgenology (4e).pdf\":\n",
    "                self.crop_top = 50\n",
    "                self.crop_inner = 40\n",
    "                self.crop_bot = 50\n",
    "                self.crop_outer = 50\n",
    "                self.chapters = [8,29,46,68,84,104,122,136,160,182,202,226] # TODO rest of chpts\n",
    "\n",
    "            case \"Chest - Webb - Fundamentals of Body CT (4e).pdf\":\n",
    "                self.crop_top = 60\n",
    "                self.crop_inner = 40\n",
    "                self.crop_bot = 30\n",
    "                self.crop_outer = 30\n",
    "                self.font_header = {(13.0, 'Univers-CondensedBold'), (10.0, 'Univers-BoldOblique')}\n",
    "                self.font_body = {\n",
    "                    (10.0, \"JansonText-Roman\"),\n",
    "                    (10.0, \"JansonText-Italic\"),\n",
    "                    (10.0, 'JansonText-Bold'),\n",
    "                    (10.0, 'JansonText-BoldItalic'),\n",
    "                    (10.0, 'TnQ'), # greek characters\n",
    "                }\n",
    "                self.font_ignore = {\n",
    "                    (16.0, \"JansonText-Roman\"),  # chapter title font\n",
    "                    (7.199999809265137, \"JansonText-Roman-SC800\"),\n",
    "                    (9.0, \"JansonText-Roman-SC800\"),\n",
    "                    (27.0, \"JansonText-Roman-SC800\"),\n",
    "                    (21.600000381469727, \"JansonText-Roman-SC800\"),\n",
    "                    (8.0, 'Univers-CondensedBold'), # figure labels\n",
    "                    # (9.0, 'JansonText-Bold'), # todo these are numbers; verify they're not needed\n",
    "                    (8.0, 'Univers-BoldOblique'), # figure labels\n",
    "                    (10.0, 'Univers-CondensedBold'), # page numbers\n",
    "                    (16.0, 'JansonText-Bold'), # chapter number\n",
    "                }\n",
    "                self.font_ignore_names = {'Helvetica',   # figures\n",
    "                                          'Helvetica-Bold',\n",
    "                                          'ZapfDingbats', # bullet points\n",
    "                                          'Univers', # table body\n",
    "                                          'Univers-Light', # table footer\n",
    "                                          'Univers-Oblique', # figure arrows\n",
    "                                          'Univers-Bold', # table header\n",
    "                                          'Univers-Condensed', # table label\n",
    "                                        #   'Sabon-Roman'\n",
    "                }\n",
    "                # Chapters are zero-indexed, and final number is the last page of the final chapter\n",
    "                self.chapters = [6,12,26,49,73,94,134,151,176,188,214,225,241,250,278,290,323,340,349,363,370,]\n",
    "            case \"General - Mandell - Core Radiology (1e).pdf\":\n",
    "                self.crop_top = 10\n",
    "                self.crop_inner = 30\n",
    "                self.crop_bot = 30\n",
    "                self.crop_outer = 30\n",
    "                self.font_header = {(11.0, 'TwCenMT-CondensedExtraBo'),\n",
    "                                    (18.0, 'Calibri-Bold'),\n",
    "                                    (14.0, 'Calibri-Bold'),}    \n",
    "                self.font_body = {(12.0, 'Calibri'),(10.0, 'Calibri'),(10.0, 'Calibri-Bold')}\n",
    "                self.font_ignore_names = {'ArialMT','MyriadPro-Regular','MyriadPro-It','Wingdings2'}\n",
    "                self.font_ignore = {(-1, ''),} \n",
    "                self.chapters = [669,702]\n",
    "            case _:\n",
    "                raise KeyError\n",
    "            \n",
    "        \n",
    "        overlapping_fonts = self.font_ignore_names.intersection([x[1] for x in self.font_body.union(self.font_header)])\n",
    "        assert not overlapping_fonts, f\"These fonts are both ignored and included: {overlapping_fonts}\"\n",
    "\n",
    "    def chapter_range(self):\n",
    "        return list(zip(self.chapters, self.chapters[1:]))\n",
    "\n",
    "    def contained_chapter(self, page: fitz.Page, chapter_range=None):\n",
    "        chapter_range = chapter_range or self.chapter_range()\n",
    "        for i, (start, end) in enumerate(chapter_range):\n",
    "            if (start or float(\"-inf\")) <= page.number < (end or float(\"inf\")):\n",
    "                return i\n",
    "        return None\n",
    "\n",
    "    def get_cropbox(self, pg: fitz.Page):\n",
    "        inr, outr = self.crop_inner, self.crop_outer\n",
    "        if ((pg.number + 1) % 2) and config.odd_spread:\n",
    "            inr, outr = outr, inr\n",
    "\n",
    "        return (\n",
    "            outr,\n",
    "            config.crop_top,\n",
    "            pg.rect.width - inr,\n",
    "            pg.rect.height - config.crop_bot,\n",
    "        )\n",
    "\n",
    "    def crop_page(self, pg: fitz.Page):\n",
    "        if pg.cropbox_position == fitz.Point():  # botched to check if cropbox is not set\n",
    "            crop_box = self.get_cropbox(pg)\n",
    "            pg.set_cropbox(crop_box)\n",
    "\n",
    "\n",
    "config = Config(fname)\n",
    "\n",
    "# config.chapter_range()"
   ]
  },
  {
   "cell_type": "code",
   "execution_count": null,
   "metadata": {},
   "outputs": [],
   "source": [
    "pdf = fitz.open(fname)\n",
    "# pages = pdf[config['pg_start']:]\n",
    "start, end = config.chapter_range()[0]\n",
    "# print(start,end)\n",
    "\n",
    "# pages = pdf[start:end]\n",
    "\n",
    "pdf.select(range(start, end))\n",
    "\n",
    "print(len(pdf))\n",
    "\n",
    "pg: fitz.Page = pdf[1]\n",
    "# print(pg.get_text())"
   ]
  },
  {
   "cell_type": "code",
   "execution_count": null,
   "metadata": {},
   "outputs": [],
   "source": [
    "def page_to_img(pg: fitz.Page, config=config):\n",
    "    im: fitz.Pixmap = pg.get_pixmap(clip=config.get_cropbox(pg))\n",
    "    bytes = im.tobytes(\"png\")\n",
    "    return Image.open(BytesIO(bytes))\n",
    "\n",
    "# crop_page(pg)\n",
    "im=page_to_img(pg)\n",
    "\n",
    "plt.figure(figsize=(10,10))\n",
    "display(im)"
   ]
  },
  {
   "cell_type": "code",
   "execution_count": null,
   "metadata": {},
   "outputs": [],
   "source": [
    "def process_page(pg: fitz.Page):\n",
    "    # page_to_img(pg).show()\n",
    "\n",
    "    continuation = \"\"  # base text continuing from previous page's last entry\n",
    "    mode = \"startup\"  # startup, header, body\n",
    "    entries = []  # list of (header, text) tuples\n",
    "    current_entry = [\"\", \"\"]  # current entry (header, text)\n",
    "    done = False # whether we've reached the end of the chapter (e.x. sugguested readings section)\n",
    "\n",
    "    flags = fitz.TEXTFLAGS_DICT & ~fitz.TEXT_PRESERVE_IMAGES & fitz.TEXT_DEHYPHENATE\n",
    "\n",
    "    # tessdata=Path('/usr/share/tessdata')\n",
    "    tp = pg.get_textpage(flags=flags)   # default behavior\n",
    "    # tp = pg.get_textpage_ocr(flags=flags, full=True, dpi=300, tessdata=tessdata)   # full\n",
    "    # tp = pg.get_textpage_ocr(flags=flags, full=False, tessdata=tessdata)   # partial\n",
    "\n",
    "    dict = pg.get_text(\"dict\", textpage=tp, flags=flags, clip=config.get_cropbox(pg))\n",
    "    blocks = dict[\"blocks\"]\n",
    "    for block in blocks:\n",
    "        for line in block[\"lines\"]:\n",
    "            for span in line[\"spans\"]:\n",
    "                txt = span[\"text\"]\n",
    "\n",
    "                if txt == 'SUGGESTED READING':\n",
    "                    print('### Found end of chapter, stopping early ### ')\n",
    "                    done = True\n",
    "                    if mode == \"body\":\n",
    "                        entries.append([ent.strip() for ent in current_entry])\n",
    "                    return entries, continuation.strip(), done\n",
    "\n",
    "                # if txt.endswith(\"-\") and abs(w[\"x1\"] - x1) < 0.08 * pg.width:\n",
    "\n",
    "                font = (span[\"size\"], span[\"font\"])\n",
    "                # print(font, txt)\n",
    "                if font in config.font_ignore or span[\"font\"] in config.font_ignore_names:\n",
    "                    continue\n",
    "                elif font in config.font_header:\n",
    "                    match mode:\n",
    "                        case \"startup\":\n",
    "                            mode = \"header\"\n",
    "                            current_entry = [txt, \"\"]\n",
    "                        case \"header\":\n",
    "                            current_entry[0] += txt\n",
    "                        case \"body\":\n",
    "                            mode = \"header\"\n",
    "                            entries.append([ent.strip() for ent in current_entry])\n",
    "                            current_entry = [txt, \"\"]\n",
    "                elif font in config.font_body:\n",
    "                    match mode:\n",
    "                        case \"startup\":\n",
    "                            if txt.endswith(\".\"):\n",
    "                                txt += \"\\n\"\n",
    "                            continuation += txt\n",
    "                        case \"header\":\n",
    "                            mode = \"body\"\n",
    "                            current_entry[1] += txt\n",
    "                        case \"body\":\n",
    "                            if txt.endswith(\".\"):\n",
    "                                txt += \"\\n\"\n",
    "                            current_entry[1] += txt\n",
    "                else:\n",
    "                    if txt.strip():\n",
    "                        print(f\"Page {pg.number}: unknown font-pair {font}, ignoring text: '{txt}'\")\n",
    "\n",
    "    match mode:\n",
    "        case \"body\":\n",
    "            entries.append([ent.strip() for ent in current_entry])\n",
    "        case \"header\", \"startup\":\n",
    "            print(\"### Ended on\", mode, \"-- this should not happen\")\n",
    "    \n",
    "            \n",
    "    continuation = process_text(continuation)\n",
    "    for i, (_h, b) in enumerate(entries):\n",
    "        entries[i][1] = process_text(b)\n",
    "\n",
    "    return entries, continuation, done\n",
    "\n",
    "\n",
    "ent, cont, done = process_page(pg)\n",
    "\n",
    "\n",
    "print('\\n' + '='*80)\n",
    "print(\"cont:\", cont, \"\\n\")\n",
    "for h, b in ent:\n",
    "    print(\"**\", h, \"**\")\n",
    "    print(b)\n",
    "    print()"
   ]
  }
 ],
 "metadata": {
  "kernelspec": {
   "display_name": "base",
   "language": "python",
   "name": "python3"
  },
  "language_info": {
   "codemirror_mode": {
    "name": "ipython",
    "version": 3
   },
   "file_extension": ".py",
   "mimetype": "text/x-python",
   "name": "python",
   "nbconvert_exporter": "python",
   "pygments_lexer": "ipython3",
   "version": "3.11.4"
  },
  "orig_nbformat": 4
 },
 "nbformat": 4,
 "nbformat_minor": 2
}
